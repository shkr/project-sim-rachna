{
  "nbformat": 4,
  "nbformat_minor": 0,
  "metadata": {
    "colab": {
      "name": "Disease_classification_BERT.ipynb",
      "provenance": [],
      "collapsed_sections": []
    },
    "kernelspec": {
      "name": "python3",
      "display_name": "Python 3"
    },
    "language_info": {
      "name": "python"
    },
    "accelerator": "GPU",
    "gpuClass": "standard"
  },
  "cells": [
    {
      "cell_type": "code",
      "execution_count": null,
      "metadata": {
        "id": "NhlQyEzq6H59"
      },
      "outputs": [],
      "source": [
        "import tensorflow as tf\n",
        "import tensorflow_hub as hub\n",
        "import tensorflow_text as text\n",
        "import pandas as pd\n",
        "from sklearn.model_selection import train_test_split\n",
        "from sklearn.metrics import classification_report, confusion_matrix, accuracy_score\n",
        "import matplotlib.pyplot as plt\n",
        "import seaborn as sns\n",
        "import numpy as np"
      ]
    },
    {
      "cell_type": "code",
      "source": [
        "from google.colab import drive \n",
        "drive.mount('/content/gdrive', force_remount=True)"
      ],
      "metadata": {
        "colab": {
          "base_uri": "https://localhost:8080/"
        },
        "id": "aoRj8pCB6ZtV",
        "outputId": "1ad0809d-3822-42fa-f40a-3c73b5fe6b1f"
      },
      "execution_count": null,
      "outputs": [
        {
          "output_type": "stream",
          "name": "stdout",
          "text": [
            "Mounted at /content/gdrive\n"
          ]
        }
      ]
    },
    {
      "cell_type": "code",
      "source": [
        "dataset_pos = pd.read_csv(\"/content/gdrive/MyDrive/positives.csv\")\n",
        "dataset_pos['Category'] = 'Disease'\n",
        "dataset_neg = pd.read_csv(\"/content/gdrive/MyDrive/negatives.csv\")\n",
        "dataset_neg['Category'] = 'Non-Disease'\n",
        "dataset = pd.concat([dataset_pos,dataset_neg])\n",
        "# del dataset['Label']"
      ],
      "metadata": {
        "id": "RL4w6Sp6Ajsc"
      },
      "execution_count": null,
      "outputs": []
    },
    {
      "cell_type": "markdown",
      "source": [
        "**It is typically a good idea to remove duplicate data points so the model can better generalize to the full dataset.**"
      ],
      "metadata": {
        "id": "lmhw0vruVhoZ"
      }
    },
    {
      "cell_type": "code",
      "source": [
        "dataset = dataset.drop_duplicates(['Sentence'])"
      ],
      "metadata": {
        "id": "R8OzYOGsE6L7"
      },
      "execution_count": null,
      "outputs": []
    },
    {
      "cell_type": "code",
      "source": [
        "dataset['Category'].value_counts()"
      ],
      "metadata": {
        "colab": {
          "base_uri": "https://localhost:8080/"
        },
        "id": "Dz68v1KmCVE-",
        "outputId": "0d8913b9-f9f4-4eed-b8fb-88dba8a35d0e"
      },
      "execution_count": null,
      "outputs": [
        {
          "output_type": "execute_result",
          "data": {
            "text/plain": [
              "Non-Disease    9960\n",
              "Disease        2655\n",
              "Name: Category, dtype: int64"
            ]
          },
          "metadata": {},
          "execution_count": 5
        }
      ]
    },
    {
      "cell_type": "code",
      "source": [
        "df_disease = dataset[dataset['Category']=='Disease']\n",
        "df_nondisease = dataset[dataset['Category']=='Non-Disease']"
      ],
      "metadata": {
        "id": "03KprSSQCYkE"
      },
      "execution_count": null,
      "outputs": []
    },
    {
      "cell_type": "markdown",
      "source": [
        "**It is important to balance out the dataset to give equal priority to each class. In our case, we will downsample the majority data.**"
      ],
      "metadata": {
        "id": "Rp9iBinsVN9T"
      }
    },
    {
      "cell_type": "code",
      "source": [
        "df_nondisease_downsampled = df_nondisease.sample(df_disease.shape[0])"
      ],
      "metadata": {
        "id": "wBtWG5WhCszs"
      },
      "execution_count": null,
      "outputs": []
    },
    {
      "cell_type": "code",
      "source": [
        "df_balanced = pd.concat([df_disease, df_nondisease_downsampled])\n",
        "df_balanced[\"Category\"].value_counts()"
      ],
      "metadata": {
        "colab": {
          "base_uri": "https://localhost:8080/"
        },
        "id": "Kt7s56mEC5r2",
        "outputId": "d90d14ba-7ce4-40d9-8e7f-508befb563ef"
      },
      "execution_count": null,
      "outputs": [
        {
          "output_type": "execute_result",
          "data": {
            "text/plain": [
              "Disease        2655\n",
              "Non-Disease    2655\n",
              "Name: Category, dtype: int64"
            ]
          },
          "metadata": {},
          "execution_count": 8
        }
      ]
    },
    {
      "cell_type": "code",
      "source": [
        "df_balanced['Label']=df_balanced['Category'].apply(lambda x: 1 if x=='Disease' else 0)"
      ],
      "metadata": {
        "id": "qxSL809WDG7T"
      },
      "execution_count": null,
      "outputs": []
    },
    {
      "cell_type": "code",
      "source": [
        "import matplotlib.pyplot as plt\n",
        "df_balanced.groupby('Category').Label.value_counts().plot(kind = \"bar\", color = [\"pink\", \"orange\", \"red\", \"yellow\", \"blue\"])\n",
        "plt.xlabel(\"Category of data\")\n",
        "plt.title(\"Visualize numbers of Category of data\")\n",
        "plt.show()"
      ],
      "metadata": {
        "id": "IVh77BbjUUEl",
        "outputId": "249e9801-3b47-4ccb-9256-aabad55a81b4",
        "colab": {
          "base_uri": "https://localhost:8080/",
          "height": 369
        }
      },
      "execution_count": null,
      "outputs": [
        {
          "output_type": "display_data",
          "data": {
            "text/plain": [
              "<Figure size 432x288 with 1 Axes>"
            ],
            "image/png": "[encoded data removed]"
          },
          "metadata": {
            "needs_background": "light"
          }
        }
      ]
    },
    {
      "cell_type": "code",
      "source": [
        "df_balanced.sample(5)"
      ],
      "metadata": {
        "colab": {
          "base_uri": "https://localhost:8080/",
          "height": 206
        },
        "id": "mRBeL3I-DbxV",
        "outputId": "8e46f6c6-704f-40cd-86c8-6f8bb464a8a0"
      },
      "execution_count": null,
      "outputs": [
        {
          "output_type": "execute_result",
          "data": {
            "text/plain": [
              "      Unnamed: 0                                           Sentence Category  \\\n",
              "731          731  Ring chromosome 20, ring-shaped chromosome 20 ...  Disease   \n",
              "701          701  32527 31410Chondrodysplasia punctata is a clin...  Disease   \n",
              "2732        2732  Phenylketonuria (PKU) is an inborn error of me...  Disease   \n",
              "3660        3660  XYY syndrome is a genetic condition in which a...  Disease   \n",
              "3032        3032  Alveolar rhabdomyosarcoma is a type of rhabdom...  Disease   \n",
              "\n",
              "      Label  \n",
              "731       1  \n",
              "701       1  \n",
              "2732      1  \n",
              "3660      1  \n",
              "3032      1  "
            ],
            "text/html": [
              "\n",
              "  <div id=\"df-22c6e3d5-026e-4c3d-8fff-d37b766e83f0\">\n",
              "    <div class=\"colab-df-container\">\n",
              "      <div>\n",
              "<style scoped>\n",
              "    .dataframe tbody tr th:only-of-type {\n",
              "        vertical-align: middle;\n",
              "    }\n",
              "\n",
              "    .dataframe tbody tr th {\n",
              "        vertical-align: top;\n",
              "    }\n",
              "\n",
              "    .dataframe thead th {\n",
              "        text-align: right;\n",
              "    }\n",
              "</style>\n",
              "<table border=\"1\" class=\"dataframe\">\n",
              "  <thead>\n",
              "    <tr style=\"text-align: right;\">\n",
              "      <th></th>\n",
              "      <th>Unnamed: 0</th>\n",
              "      <th>Sentence</th>\n",
              "      <th>Category</th>\n",
              "      <th>Label</th>\n",
              "    </tr>\n",
              "  </thead>\n",
              "  <tbody>\n",
              "    <tr>\n",
              "      <th>731</th>\n",
              "      <td>731</td>\n",
              "      <td>Ring chromosome 20, ring-shaped chromosome 20 ...</td>\n",
              "      <td>Disease</td>\n",
              "      <td>1</td>\n",
              "    </tr>\n",
              "    <tr>\n",
              "      <th>701</th>\n",
              "      <td>701</td>\n",
              "      <td>32527 31410Chondrodysplasia punctata is a clin...</td>\n",
              "      <td>Disease</td>\n",
              "      <td>1</td>\n",
              "    </tr>\n",
              "    <tr>\n",
              "      <th>2732</th>\n",
              "      <td>2732</td>\n",
              "      <td>Phenylketonuria (PKU) is an inborn error of me...</td>\n",
              "      <td>Disease</td>\n",
              "      <td>1</td>\n",
              "    </tr>\n",
              "    <tr>\n",
              "      <th>3660</th>\n",
              "      <td>3660</td>\n",
              "      <td>XYY syndrome is a genetic condition in which a...</td>\n",
              "      <td>Disease</td>\n",
              "      <td>1</td>\n",
              "    </tr>\n",
              "    <tr>\n",
              "      <th>3032</th>\n",
              "      <td>3032</td>\n",
              "      <td>Alveolar rhabdomyosarcoma is a type of rhabdom...</td>\n",
              "      <td>Disease</td>\n",
              "      <td>1</td>\n",
              "    </tr>\n",
              "  </tbody>\n",
              "</table>\n",
              "</div>\n",
              "      <button class=\"colab-df-convert\" onclick=\"convertToInteractive('df-22c6e3d5-026e-4c3d-8fff-d37b766e83f0')\"\n",
              "              title=\"Convert this dataframe to an interactive table.\"\n",
              "              style=\"display:none;\">\n",
              "        \n",
              "  <svg xmlns=\"http://www.w3.org/2000/svg\" height=\"24px\"viewBox=\"0 0 24 24\"\n",
              "       width=\"24px\">\n",
              "    <path d=\"M0 0h24v24H0V0z\" fill=\"none\"/>\n",
              "    <path d=\"M18.56 5.44l.94 2.06.94-2.06 2.06-.94-2.06-.94-.94-2.06-.94 2.06-2.06.94zm-11 1L8.5 8.5l.94-2.06 2.06-.94-2.06-.94L8.5 2.5l-.94 2.06-2.06.94zm10 10l.94 2.06.94-2.06 2.06-.94-2.06-.94-.94-2.06-.94 2.06-2.06.94z\"/><path d=\"M17.41 7.96l-1.37-1.37c-.4-.4-.92-.59-1.43-.59-.52 0-1.04.2-1.43.59L10.3 9.45l-7.72 7.72c-.78.78-.78 2.05 0 2.83L4 21.41c.39.39.9.59 1.41.59.51 0 1.02-.2 1.41-.59l7.78-7.78 2.81-2.81c.8-.78.8-2.07 0-2.86zM5.41 20L4 18.59l7.72-7.72 1.47 1.35L5.41 20z\"/>\n",
              "  </svg>\n",
              "      </button>\n",
              "      \n",
              "  <style>\n",
              "    .colab-df-container {\n",
              "      display:flex;\n",
              "      flex-wrap:wrap;\n",
              "      gap: 12px;\n",
              "    }\n",
              "\n",
              "    .colab-df-convert {\n",
              "      background-color: #E8F0FE;\n",
              "      border: none;\n",
              "      border-radius: 50%;\n",
              "      cursor: pointer;\n",
              "      display: none;\n",
              "      fill: #1967D2;\n",
              "      height: 32px;\n",
              "      padding: 0 0 0 0;\n",
              "      width: 32px;\n",
              "    }\n",
              "\n",
              "    .colab-df-convert:hover {\n",
              "      background-color: #E2EBFA;\n",
              "      box-shadow: 0px 1px 2px rgba(60, 64, 67, 0.3), 0px 1px 3px 1px rgba(60, 64, 67, 0.15);\n",
              "      fill: #174EA6;\n",
              "    }\n",
              "\n",
              "    [theme=dark] .colab-df-convert {\n",
              "      background-color: #3B4455;\n",
              "      fill: #D2E3FC;\n",
              "    }\n",
              "\n",
              "    [theme=dark] .colab-df-convert:hover {\n",
              "      background-color: #434B5C;\n",
              "      box-shadow: 0px 1px 3px 1px rgba(0, 0, 0, 0.15);\n",
              "      filter: drop-shadow(0px 1px 2px rgba(0, 0, 0, 0.3));\n",
              "      fill: #FFFFFF;\n",
              "    }\n",
              "  </style>\n",
              "\n",
              "      <script>\n",
              "        const buttonEl =\n",
              "          document.querySelector('#df-22c6e3d5-026e-4c3d-8fff-d37b766e83f0 button.colab-df-convert');\n",
              "        buttonEl.style.display =\n",
              "          google.colab.kernel.accessAllowed ? 'block' : 'none';\n",
              "\n",
              "        async function convertToInteractive(key) {\n",
              "          const element = document.querySelector('#df-22c6e3d5-026e-4c3d-8fff-d37b766e83f0');\n",
              "          const dataTable =\n",
              "            await google.colab.kernel.invokeFunction('convertToInteractive',\n",
              "                                                     [key], {});\n",
              "          if (!dataTable) return;\n",
              "\n",
              "          const docLinkHtml = 'Like what you see? Visit the ' +\n",
              "            '<a target=\"_blank\" href=https://colab.research.google.com/notebooks/data_table.ipynb>data table notebook</a>'\n",
              "            + ' to learn more about interactive tables.';\n",
              "          element.innerHTML = '';\n",
              "          dataTable['output_type'] = 'display_data';\n",
              "          await google.colab.output.renderOutput(dataTable, element);\n",
              "          const docLink = document.createElement('div');\n",
              "          docLink.innerHTML = docLinkHtml;\n",
              "          element.appendChild(docLink);\n",
              "        }\n",
              "      </script>\n",
              "    </div>\n",
              "  </div>\n",
              "  "
            ]
          },
          "metadata": {},
          "execution_count": 12
        }
      ]
    },
    {
      "cell_type": "code",
      "source": [
        "del df_balanced['Unnamed: 0']"
      ],
      "metadata": {
        "id": "tLzLYCVxDeVr"
      },
      "execution_count": null,
      "outputs": []
    },
    {
      "cell_type": "code",
      "source": [
        "df_balanced['Sentence'] = df_balanced['Sentence'].astype(str)"
      ],
      "metadata": {
        "id": "YseikNW6HA9-"
      },
      "execution_count": null,
      "outputs": []
    },
    {
      "cell_type": "code",
      "source": [
        "df_balanced.sample(5)"
      ],
      "metadata": {
        "colab": {
          "base_uri": "https://localhost:8080/",
          "height": 206
        },
        "id": "HGUb7d8JECeQ",
        "outputId": "e829a5a0-f2a8-4d8f-acda-434edb837e93"
      },
      "execution_count": null,
      "outputs": [
        {
          "output_type": "execute_result",
          "data": {
            "text/plain": [
              "                                               Sentence     Category  Label\n",
              "717   Choroid plexus papilloma, also known as papill...      Disease      1\n",
              "536   A brain tumor or intracranial neoplasm occurs ...      Disease      1\n",
              "1246  1CZS, 1CZT, 1CZV, 1FV4, 1Y61, 3P6Z, 3P70, 3S9C...      Disease      1\n",
              "4385  Organogermanium compounds are organometallic c...  Non-Disease      0\n",
              "2284  Molybdenum cofactor deficiency is a rare human...      Disease      1"
            ],
            "text/html": [
              "\n",
              "  <div id=\"df-89e19621-2f04-45a4-badc-df76471bf097\">\n",
              "    <div class=\"colab-df-container\">\n",
              "      <div>\n",
              "<style scoped>\n",
              "    .dataframe tbody tr th:only-of-type {\n",
              "        vertical-align: middle;\n",
              "    }\n",
              "\n",
              "    .dataframe tbody tr th {\n",
              "        vertical-align: top;\n",
              "    }\n",
              "\n",
              "    .dataframe thead th {\n",
              "        text-align: right;\n",
              "    }\n",
              "</style>\n",
              "<table border=\"1\" class=\"dataframe\">\n",
              "  <thead>\n",
              "    <tr style=\"text-align: right;\">\n",
              "      <th></th>\n",
              "      <th>Sentence</th>\n",
              "      <th>Category</th>\n",
              "      <th>Label</th>\n",
              "    </tr>\n",
              "  </thead>\n",
              "  <tbody>\n",
              "    <tr>\n",
              "      <th>717</th>\n",
              "      <td>Choroid plexus papilloma, also known as papill...</td>\n",
              "      <td>Disease</td>\n",
              "      <td>1</td>\n",
              "    </tr>\n",
              "    <tr>\n",
              "      <th>536</th>\n",
              "      <td>A brain tumor or intracranial neoplasm occurs ...</td>\n",
              "      <td>Disease</td>\n",
              "      <td>1</td>\n",
              "    </tr>\n",
              "    <tr>\n",
              "      <th>1246</th>\n",
              "      <td>1CZS, 1CZT, 1CZV, 1FV4, 1Y61, 3P6Z, 3P70, 3S9C...</td>\n",
              "      <td>Disease</td>\n",
              "      <td>1</td>\n",
              "    </tr>\n",
              "    <tr>\n",
              "      <th>4385</th>\n",
              "      <td>Organogermanium compounds are organometallic c...</td>\n",
              "      <td>Non-Disease</td>\n",
              "      <td>0</td>\n",
              "    </tr>\n",
              "    <tr>\n",
              "      <th>2284</th>\n",
              "      <td>Molybdenum cofactor deficiency is a rare human...</td>\n",
              "      <td>Disease</td>\n",
              "      <td>1</td>\n",
              "    </tr>\n",
              "  </tbody>\n",
              "</table>\n",
              "</div>\n",
              "      <button class=\"colab-df-convert\" onclick=\"convertToInteractive('df-89e19621-2f04-45a4-badc-df76471bf097')\"\n",
              "              title=\"Convert this dataframe to an interactive table.\"\n",
              "              style=\"display:none;\">\n",
              "        \n",
              "  <svg xmlns=\"http://www.w3.org/2000/svg\" height=\"24px\"viewBox=\"0 0 24 24\"\n",
              "       width=\"24px\">\n",
              "    <path d=\"M0 0h24v24H0V0z\" fill=\"none\"/>\n",
              "    <path d=\"M18.56 5.44l.94 2.06.94-2.06 2.06-.94-2.06-.94-.94-2.06-.94 2.06-2.06.94zm-11 1L8.5 8.5l.94-2.06 2.06-.94-2.06-.94L8.5 2.5l-.94 2.06-2.06.94zm10 10l.94 2.06.94-2.06 2.06-.94-2.06-.94-.94-2.06-.94 2.06-2.06.94z\"/><path d=\"M17.41 7.96l-1.37-1.37c-.4-.4-.92-.59-1.43-.59-.52 0-1.04.2-1.43.59L10.3 9.45l-7.72 7.72c-.78.78-.78 2.05 0 2.83L4 21.41c.39.39.9.59 1.41.59.51 0 1.02-.2 1.41-.59l7.78-7.78 2.81-2.81c.8-.78.8-2.07 0-2.86zM5.41 20L4 18.59l7.72-7.72 1.47 1.35L5.41 20z\"/>\n",
              "  </svg>\n",
              "      </button>\n",
              "      \n",
              "  <style>\n",
              "    .colab-df-container {\n",
              "      display:flex;\n",
              "      flex-wrap:wrap;\n",
              "      gap: 12px;\n",
              "    }\n",
              "\n",
              "    .colab-df-convert {\n",
              "      background-color: #E8F0FE;\n",
              "      border: none;\n",
              "      border-radius: 50%;\n",
              "      cursor: pointer;\n",
              "      display: none;\n",
              "      fill: #1967D2;\n",
              "      height: 32px;\n",
              "      padding: 0 0 0 0;\n",
              "      width: 32px;\n",
              "    }\n",
              "\n",
              "    .colab-df-convert:hover {\n",
              "      background-color: #E2EBFA;\n",
              "      box-shadow: 0px 1px 2px rgba(60, 64, 67, 0.3), 0px 1px 3px 1px rgba(60, 64, 67, 0.15);\n",
              "      fill: #174EA6;\n",
              "    }\n",
              "\n",
              "    [theme=dark] .colab-df-convert {\n",
              "      background-color: #3B4455;\n",
              "      fill: #D2E3FC;\n",
              "    }\n",
              "\n",
              "    [theme=dark] .colab-df-convert:hover {\n",
              "      background-color: #434B5C;\n",
              "      box-shadow: 0px 1px 3px 1px rgba(0, 0, 0, 0.15);\n",
              "      filter: drop-shadow(0px 1px 2px rgba(0, 0, 0, 0.3));\n",
              "      fill: #FFFFFF;\n",
              "    }\n",
              "  </style>\n",
              "\n",
              "      <script>\n",
              "        const buttonEl =\n",
              "          document.querySelector('#df-89e19621-2f04-45a4-badc-df76471bf097 button.colab-df-convert');\n",
              "        buttonEl.style.display =\n",
              "          google.colab.kernel.accessAllowed ? 'block' : 'none';\n",
              "\n",
              "        async function convertToInteractive(key) {\n",
              "          const element = document.querySelector('#df-89e19621-2f04-45a4-badc-df76471bf097');\n",
              "          const dataTable =\n",
              "            await google.colab.kernel.invokeFunction('convertToInteractive',\n",
              "                                                     [key], {});\n",
              "          if (!dataTable) return;\n",
              "\n",
              "          const docLinkHtml = 'Like what you see? Visit the ' +\n",
              "            '<a target=\"_blank\" href=https://colab.research.google.com/notebooks/data_table.ipynb>data table notebook</a>'\n",
              "            + ' to learn more about interactive tables.';\n",
              "          element.innerHTML = '';\n",
              "          dataTable['output_type'] = 'display_data';\n",
              "          await google.colab.output.renderOutput(dataTable, element);\n",
              "          const docLink = document.createElement('div');\n",
              "          docLink.innerHTML = docLinkHtml;\n",
              "          element.appendChild(docLink);\n",
              "        }\n",
              "      </script>\n",
              "    </div>\n",
              "  </div>\n",
              "  "
            ]
          },
          "metadata": {},
          "execution_count": 15
        }
      ]
    },
    {
      "cell_type": "code",
      "source": [
        "df_balanced.dtypes"
      ],
      "metadata": {
        "colab": {
          "base_uri": "https://localhost:8080/"
        },
        "id": "TEXY1c_NHJvW",
        "outputId": "df9ce19a-7db8-40d9-abc8-06a5f1404f0f"
      },
      "execution_count": null,
      "outputs": [
        {
          "output_type": "execute_result",
          "data": {
            "text/plain": [
              "Sentence    object\n",
              "Category    object\n",
              "Label        int64\n",
              "dtype: object"
            ]
          },
          "metadata": {},
          "execution_count": 16
        }
      ]
    },
    {
      "cell_type": "code",
      "source": [
        "X_train, X_test, y_train, y_test = train_test_split(df_balanced['Sentence'],df_balanced['Label'], stratify=df_balanced['Label'])"
      ],
      "metadata": {
        "id": "0QXVRd0EEKCg"
      },
      "execution_count": null,
      "outputs": []
    },
    {
      "cell_type": "markdown",
      "source": [
        "# **The preprocessing model**\n",
        "Text inputs need to be transformed to numeric token ids and arranged in several Tensors before being input to BERT. TensorFlow Hub provides a matching preprocessing model for BERT."
      ],
      "metadata": {
        "id": "KI8cIh6L5nWW"
      }
    },
    {
      "cell_type": "code",
      "source": [
        "bert_preprocess = hub.KerasLayer(\"https://tfhub.dev/tensorflow/bert_en_uncased_preprocess/3\")"
      ],
      "metadata": {
        "id": "CnYQpa44EXw2"
      },
      "execution_count": null,
      "outputs": []
    },
    {
      "cell_type": "markdown",
      "source": [
        "# **Using the BERT model**\n",
        "The BERT encoder model can be loaded from TF hub. Further, we can  create a very simple fine-tuned model, with the preprocessing model, the selected BERT model, one Dense and a Dropout layer."
      ],
      "metadata": {
        "id": "am6xHU6d6Ms7"
      }
    },
    {
      "cell_type": "code",
      "source": [
        "bert_encoder = hub.KerasLayer(\"https://tfhub.dev/tensorflow/bert_en_uncased_L-12_H-768_A-12/4\")"
      ],
      "metadata": {
        "id": "mzcxwOss6Lmv"
      },
      "execution_count": null,
      "outputs": []
    },
    {
      "cell_type": "code",
      "source": [
        "# Bert layers\n",
        "text_input = tf.keras.layers.Input(shape=(), dtype=tf.string, name='text')\n",
        "preprocessed_text = bert_preprocess(text_input)\n",
        "outputs = bert_encoder(preprocessed_text)\n",
        "\n",
        "# Neural network layers\n",
        "l = tf.keras.layers.Dropout(0.1, name=\"dropout\")(outputs['pooled_output'])\n",
        "l = tf.keras.layers.Dense(1, activation='sigmoid', name=\"output\")(l)\n",
        "\n",
        "# Use inputs and outputs to construct a final model\n",
        "model = tf.keras.Model(inputs=[text_input], outputs = [l])"
      ],
      "metadata": {
        "id": "ttvsmkuEEeO0"
      },
      "execution_count": null,
      "outputs": []
    },
    {
      "cell_type": "code",
      "source": [
        "model.summary()"
      ],
      "metadata": {
        "colab": {
          "base_uri": "https://localhost:8080/"
        },
        "id": "Tghh_WnuFQ7u",
        "outputId": "e6b934e4-dfb7-42ec-8caa-81df27f493e1"
      },
      "execution_count": null,
      "outputs": [
        {
          "output_type": "stream",
          "name": "stdout",
          "text": [
            "Model: \"model\"\n",
            "__________________________________________________________________________________________________\n",
            "Layer (type)                    Output Shape         Param #     Connected to                     \n",
            "==================================================================================================\n",
            "text (InputLayer)               [(None,)]            0                                            \n",
            "__________________________________________________________________________________________________\n",
            "keras_layer (KerasLayer)        {'input_type_ids': ( 0           text[0][0]                       \n",
            "__________________________________________________________________________________________________\n",
            "keras_layer_1 (KerasLayer)      {'pooled_output': (N 109482241   keras_layer[0][0]                \n",
            "                                                                 keras_layer[0][1]                \n",
            "                                                                 keras_layer[0][2]                \n",
            "__________________________________________________________________________________________________\n",
            "dropout (Dropout)               (None, 768)          0           keras_layer_1[0][13]             \n",
            "__________________________________________________________________________________________________\n",
            "output (Dense)                  (None, 1)            769         dropout[0][0]                    \n",
            "==================================================================================================\n",
            "Total params: 109,483,010\n",
            "Trainable params: 769\n",
            "Non-trainable params: 109,482,241\n",
            "__________________________________________________________________________________________________\n"
          ]
        }
      ]
    },
    {
      "cell_type": "code",
      "source": [
        "METRICS = [\n",
        "      tf.keras.metrics.BinaryAccuracy(name='accuracy'),\n",
        "      tf.keras.metrics.Precision(name='precision'),\n",
        "      tf.keras.metrics.Recall(name='recall')\n",
        "]\n",
        "\n",
        "model.compile(optimizer='adam',\n",
        " loss='binary_crossentropy',\n",
        " metrics=METRICS)"
      ],
      "metadata": {
        "id": "Uk8nlB6BFTML"
      },
      "execution_count": null,
      "outputs": []
    },
    {
      "cell_type": "code",
      "source": [
        "history = model.fit(X_train, y_train, epochs=10)"
      ],
      "metadata": {
        "colab": {
          "base_uri": "https://localhost:8080/"
        },
        "id": "pn1PtQSoFcSV",
        "outputId": "43b59e36-4f78-4c20-dd9f-c32f1c110528"
      },
      "execution_count": null,
      "outputs": [
        {
          "output_type": "stream",
          "name": "stdout",
          "text": [
            "Epoch 1/10\n",
            "125/125 [==============================] - 57s 365ms/step - loss: 0.4645 - accuracy: 0.8368 - precision: 0.8141 - recall: 0.8729\n",
            "Epoch 2/10\n",
            "125/125 [==============================] - 48s 388ms/step - loss: 0.2487 - accuracy: 0.9535 - precision: 0.9556 - recall: 0.9513\n",
            "Epoch 3/10\n",
            "125/125 [==============================] - 50s 400ms/step - loss: 0.1792 - accuracy: 0.9661 - precision: 0.9654 - recall: 0.9669\n",
            "Epoch 4/10\n",
            "125/125 [==============================] - 53s 420ms/step - loss: 0.1418 - accuracy: 0.9704 - precision: 0.9718 - recall: 0.9689\n",
            "Epoch 5/10\n",
            "125/125 [==============================] - 49s 389ms/step - loss: 0.1239 - accuracy: 0.9721 - precision: 0.9686 - recall: 0.9759\n",
            "Epoch 6/10\n",
            "125/125 [==============================] - 50s 396ms/step - loss: 0.1088 - accuracy: 0.9761 - precision: 0.9764 - recall: 0.9759\n",
            "Epoch 7/10\n",
            "125/125 [==============================] - 49s 395ms/step - loss: 0.1014 - accuracy: 0.9754 - precision: 0.9768 - recall: 0.9739\n",
            "Epoch 8/10\n",
            "125/125 [==============================] - 57s 455ms/step - loss: 0.0951 - accuracy: 0.9771 - precision: 0.9774 - recall: 0.9769\n",
            "Epoch 9/10\n",
            "125/125 [==============================] - 59s 470ms/step - loss: 0.0896 - accuracy: 0.9761 - precision: 0.9764 - recall: 0.9759\n",
            "Epoch 10/10\n",
            "125/125 [==============================] - 55s 442ms/step - loss: 0.0861 - accuracy: 0.9797 - precision: 0.9809 - recall: 0.9784\n"
          ]
        }
      ]
    },
    {
      "cell_type": "code",
      "source": [
        "history = history.history\n",
        "history.keys()"
      ],
      "metadata": {
        "colab": {
          "base_uri": "https://localhost:8080/"
        },
        "id": "g2SXcDFPMIbn",
        "outputId": "61121c3f-21bf-41b4-da39-fc400bb8db81"
      },
      "execution_count": null,
      "outputs": [
        {
          "output_type": "execute_result",
          "data": {
            "text/plain": [
              "dict_keys(['loss', 'accuracy', 'precision', 'recall'])"
            ]
          },
          "metadata": {},
          "execution_count": 25
        }
      ]
    },
    {
      "cell_type": "code",
      "source": [
        "print('Accuracy: {acc}, Precision: {precision}, Recall: {recall}'.format(\n",
        "        acc=history['accuracy'][-1], precision=history['precision'][-1], recall=history['recall'][-1]))"
      ],
      "metadata": {
        "colab": {
          "base_uri": "https://localhost:8080/"
        },
        "id": "_dPNLr_EJKQm",
        "outputId": "82c155f3-b99c-4d8d-857d-2b0ced322c77"
      },
      "execution_count": null,
      "outputs": [
        {
          "output_type": "stream",
          "name": "stdout",
          "text": [
            "Accuracy: 0.9796584844589233, Precision: 0.9808660745620728, Recall: 0.9784027934074402\n"
          ]
        }
      ]
    },
    {
      "cell_type": "code",
      "source": [
        "# Save model.\n",
        "model.save('/content/gdrive/MyDrive/Disease_classification_bert1.h5')"
      ],
      "metadata": {
        "id": "D8ZKRS0hJfZJ"
      },
      "execution_count": null,
      "outputs": []
    },
    {
      "cell_type": "code",
      "source": [
        "y_predicted = model.predict(X_test)\n",
        "y_predicted = y_predicted.flatten()"
      ],
      "metadata": {
        "id": "Uh_2CMMgIzu7"
      },
      "execution_count": null,
      "outputs": []
    },
    {
      "cell_type": "code",
      "source": [
        "y_predicted = np.where(y_predicted > 0.5, 1, 0)"
      ],
      "metadata": {
        "id": "BoQSzVIaJIGL"
      },
      "execution_count": null,
      "outputs": []
    },
    {
      "cell_type": "code",
      "source": [
        "print(y_predicted)"
      ],
      "metadata": {
        "colab": {
          "base_uri": "https://localhost:8080/"
        },
        "id": "5-b5YirZMxK5",
        "outputId": "e9d6af95-ecba-4021-cfff-a27a9cc77b6f"
      },
      "execution_count": null,
      "outputs": [
        {
          "output_type": "stream",
          "name": "stdout",
          "text": [
            "[1 0 0 ... 0 0 0]\n"
          ]
        }
      ]
    },
    {
      "cell_type": "code",
      "source": [
        "print(y_test)"
      ],
      "metadata": {
        "colab": {
          "base_uri": "https://localhost:8080/"
        },
        "id": "IdAHwpwvbex7",
        "outputId": "bec6fccc-d49a-4008-b18f-19b9e351caea"
      },
      "execution_count": null,
      "outputs": [
        {
          "output_type": "stream",
          "name": "stdout",
          "text": [
            "1272    1\n",
            "3560    0\n",
            "6490    0\n",
            "5634    0\n",
            "4263    0\n",
            "       ..\n",
            "5989    0\n",
            "4487    0\n",
            "5206    0\n",
            "4097    0\n",
            "3649    0\n",
            "Name: Label, Length: 1328, dtype: int64\n"
          ]
        }
      ]
    },
    {
      "cell_type": "code",
      "source": [
        "# Test accuracy\n",
        "print(\"The test accuracy is: \")\n",
        "print(accuracy_score(y_test, y_predicted))"
      ],
      "metadata": {
        "colab": {
          "base_uri": "https://localhost:8080/"
        },
        "id": "gLxsClkAPk7V",
        "outputId": "60662012-a4ac-4ab2-ab02-71ca12ba6949"
      },
      "execution_count": null,
      "outputs": [
        {
          "output_type": "stream",
          "name": "stdout",
          "text": [
            "The test accuracy is: \n",
            "0.9774096385542169\n"
          ]
        }
      ]
    },
    {
      "cell_type": "code",
      "source": [
        "# Classification report\n",
        "print(\"Classification report\")\n",
        "print(classification_report(y_test, y_predicted))"
      ],
      "metadata": {
        "colab": {
          "base_uri": "https://localhost:8080/"
        },
        "id": "z63KZQUbP4pQ",
        "outputId": "b7634c28-3f67-4b90-8c04-bf7c11ce1f81"
      },
      "execution_count": null,
      "outputs": [
        {
          "output_type": "stream",
          "name": "stdout",
          "text": [
            "Classification report\n",
            "              precision    recall  f1-score   support\n",
            "\n",
            "           0       0.97      0.98      0.98       664\n",
            "           1       0.98      0.97      0.98       664\n",
            "\n",
            "    accuracy                           0.98      1328\n",
            "   macro avg       0.98      0.98      0.98      1328\n",
            "weighted avg       0.98      0.98      0.98      1328\n",
            "\n"
          ]
        }
      ]
    },
    {
      "cell_type": "code",
      "source": [
        "aux_df = df_balanced[['Category', 'Label']].drop_duplicates().sort_values('Label')\n",
        "conf_matrix = confusion_matrix(y_test, y_predicted)\n",
        "plt.figure(figsize=(12.8,6))\n",
        "sns.heatmap(conf_matrix, \n",
        "            annot=True,\n",
        "            xticklabels=aux_df['Category'].values, \n",
        "            yticklabels=aux_df['Category'].values,\n",
        "            cmap=\"Blues\")\n",
        "plt.ylabel('Predicted')\n",
        "plt.xlabel('Actual')\n",
        "plt.title('Confusion matrix')\n",
        "plt.show()"
      ],
      "metadata": {
        "colab": {
          "base_uri": "https://localhost:8080/",
          "height": 404
        },
        "id": "wv3TKS8tQDj_",
        "outputId": "3bf53894-faad-4d0e-f36e-5dcd05d20b19"
      },
      "execution_count": null,
      "outputs": [
        {
          "output_type": "display_data",
          "data": {
            "text/plain": [
              "<Figure size 921.6x432 with 2 Axes>"
            ],
            "image/png": "[encoded data removed]"
          },
          "metadata": {
            "needs_background": "light"
          }
        }
      ]
    },
    {
      "cell_type": "markdown",
      "source": [
        "**Test classifier predictions on new data**"
      ],
      "metadata": {
        "id": "skoPMrwLcvR_"
      }
    },
    {
      "cell_type": "code",
      "source": [
        "sample_dataset1 = [\n",
        "  'Cancer is a group of diseases involving abnormal cell growth with the potential to invade or spread to other parts of the body. These contrast with benign tumors, which do not spread. Possible signs and symptoms include a lump, abnormal bleeding, prolonged cough, unexplained weight loss, and a change in bowel movements. While these symptoms may indicate cancer, they can also have other causes. Over 100 types of cancers affect humans.',\n",
        "  'The Central Board of Secondary Education (CBSE) is a national level board of education in India for public and private schools, controlled and managed by the Government of India.'\n",
        "]"
      ],
      "metadata": {
        "id": "0vckXv9XQjSp"
      },
      "execution_count": null,
      "outputs": []
    },
    {
      "cell_type": "code",
      "source": [
        "sample_pred1 = model.predict(sample_dataset1)\n",
        "print(sample_pred1)"
      ],
      "metadata": {
        "colab": {
          "base_uri": "https://localhost:8080/"
        },
        "id": "hxC1cPUeRqGY",
        "outputId": "3b1bbd32-b415-4f31-fdbc-aa0c64369f36"
      },
      "execution_count": null,
      "outputs": [
        {
          "output_type": "stream",
          "name": "stdout",
          "text": [
            "[[0.96019894]\n",
            " [0.04226561]]\n"
          ]
        }
      ]
    },
    {
      "cell_type": "markdown",
      "source": [
        "**To check if Classifier misclassifies drug article(Penicillin) as disease article.**"
      ],
      "metadata": {
        "id": "514bKouJa59i"
      }
    },
    {
      "cell_type": "code",
      "source": [
        "sample_dataset2 = [\n",
        "    '''Penicillins (P, PCN or PEN) are a group of antibiotics originally obtained from Penicillium moulds, \n",
        "    principally P. chrysogenum and P. rubens. Most penicillins in clinical use are synthesised by P. \n",
        "    chrysogenum using deep tank fermentation[2] and then purified.[3][4] A number of natural penicillins \n",
        "    have been discovered, but only two purified compounds are in clinical use: penicillin G (intramuscular \n",
        "    or intravenous use) and penicillin V (given by mouth). Penicillins were among the first medications \n",
        "    to be effective against many bacterial infections caused by staphylococci and streptococci. They are \n",
        "    members of the β-lactam antibiotics.[5] They are still widely used today for different bacterial \n",
        "    infections, though many types of bacteria have developed resistance following extensive use.\n",
        "    About 10% of people report that they are allergic to penicillin; however, up to 90% of this group may \n",
        "    not actually be allergic.[6] Serious allergies only occur in about 0.03%.[for whom?][6] Research \n",
        "    highlights the importance of both doctors and patients discussing recorded penicillin allergies.[7][8] \n",
        "    Those who are allergic to penicillin are most often given cephalosporin C (another β-lactam antibiotic)\n",
        "    because there is only 10% crossover in allergy between the penicillins and cephalosporins.[5]\n",
        "    Penicillin was discovered in 1928 by Scottish scientist Alexander Fleming as a crude extract of \n",
        "    P. rubens.[9] Fleming's student Cecil George Paine was the first to successfully use penicillin to \n",
        "    treat eye infection (ophthalmia neonatorum) in 1930. The purified compound (penicillin F) was isolated \n",
        "    in 1940 by a research team led by Howard Florey and Ernst Boris Chain at the University of Oxford. \n",
        "    Fleming first used the purified penicillin to treat streptococcal meningitis in 1942.[10] For the \n",
        "    discovery, Fleming shared the 1945 Nobel Prize in Physiology or Medicine with Florey and Chain.'''               \n",
        "]"
      ],
      "metadata": {
        "id": "sqVqiMOFR2Mz"
      },
      "execution_count": null,
      "outputs": []
    },
    {
      "cell_type": "code",
      "source": [
        "sample_pred2 = model.predict(sample_dataset2)\n",
        "print(sample_pred2)"
      ],
      "metadata": {
        "colab": {
          "base_uri": "https://localhost:8080/"
        },
        "id": "AztJ1iw5asIp",
        "outputId": "4cb52c61-9203-4fce-f01c-8f20d584e549"
      },
      "execution_count": null,
      "outputs": [
        {
          "output_type": "stream",
          "name": "stdout",
          "text": [
            "[[0.92531836]]\n"
          ]
        }
      ]
    },
    {
      "cell_type": "code",
      "source": [
        ""
      ],
      "metadata": {
        "id": "3nYpdkf_btaq"
      },
      "execution_count": null,
      "outputs": []
    }
  ]
}