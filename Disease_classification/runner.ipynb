{
  "nbformat": 4,
  "nbformat_minor": 0,
  "metadata": {
    "colab": {
      "name": "runner.ipynb",
      "provenance": []
    },
    "kernelspec": {
      "name": "python3",
      "display_name": "Python 3"
    },
    "language_info": {
      "name": "python"
    }
  },
  "cells": [
    {
      "cell_type": "code",
      "execution_count": null,
      "metadata": {
        "colab": {
          "base_uri": "https://localhost:8080/"
        },
        "id": "wQtoT3zF7BRg",
        "outputId": "b2e6a010-58b4-4a51-e640-c5b87f3cc3ba"
      },
      "outputs": [
        {
          "output_type": "stream",
          "name": "stdout",
          "text": [
            "Mounted at /content/mydrive\n"
          ]
        }
      ],
      "source": [
        "from google.colab import drive\n",
        "drive.mount('/content/mydrive')"
      ]
    },
    {
      "cell_type": "code",
      "source": [
        "from keras.models import load_model\n",
        "import tensorflow_hub as hub\n",
        "import tensorflow_text as text\n",
        "import spacy\n",
        "import requests\n",
        "from bs4 import BeautifulSoup"
      ],
      "metadata": {
        "id": "4RbK2C8WWEUV"
      },
      "execution_count": null,
      "outputs": []
    },
    {
      "cell_type": "code",
      "source": [
        "# load classification model from path\n",
        "classification_model = load_model('/content/mydrive/MyDrive/Disease_classification_bert.h5', custom_objects={'KerasLayer': hub.KerasLayer})\n",
        "# load custom nlp ner model from path\n",
        "nlp = spacy.load('/content/mydrive/MyDrive/custom_ner_model')"
      ],
      "metadata": {
        "id": "R3UI2OtsZzI-"
      },
      "execution_count": null,
      "outputs": []
    },
    {
      "cell_type": "markdown",
      "source": [
        "**Function to check if input passed is disease related or not. If yes, it also prints the name of the disease.**"
      ],
      "metadata": {
        "id": "fKA7bdAbC9XF"
      }
    },
    {
      "cell_type": "code",
      "source": [
        "def check_for_disease(sample_text):\n",
        "  sample_text = [sample_text]\n",
        "  sample_pred1 = classification_model.predict(sample_text)\n",
        "  if sample_pred1[0]>0.5:\n",
        "    doc = nlp(sample_text[0]) \n",
        "    print(\"Disease name is : \", doc.ents[0])\n",
        "  else:\n",
        "    print('Not a disease!')\n"
      ],
      "metadata": {
        "id": "_rtGsK-EcIv8"
      },
      "execution_count": null,
      "outputs": []
    },
    {
      "cell_type": "code",
      "source": [
        "sample_text1 = 'Cancer is a group of diseases involving abnormal cell growth with the potential to invade or spread to other parts of the body. These contrast with benign tumors, which do not spread. Possible signs and symptoms include a lump, abnormal bleeding, prolonged cough, unexplained weight loss, and a change in bowel movements. While these symptoms may indicate cancer, they can also have other causes. Over 100 types of cancers affect humans.'"
      ],
      "metadata": {
        "id": "TekPpuibZi--"
      },
      "execution_count": null,
      "outputs": []
    },
    {
      "cell_type": "code",
      "source": [
        "sample_text2 = 'The Central Board of Secondary Education (CBSE) is a national level board of education in India for public and private schools, controlled and managed by the Government of India.'\n"
      ],
      "metadata": {
        "id": "Hd2G0W3jdTMo"
      },
      "execution_count": null,
      "outputs": []
    },
    {
      "cell_type": "code",
      "source": [
        "sample_text3 = 'Dengue fever is a mosquito-borne tropical disease caused by the dengue virus. Symptoms typically begin three to fourteen days after infection. These may include a high fever, headache, vomiting, muscle and joint pains, and a characteristic skin itching and skin rash. Recovery generally takes two to seven days.'"
      ],
      "metadata": {
        "id": "CCtjKwHxfA-Q"
      },
      "execution_count": null,
      "outputs": []
    },
    {
      "cell_type": "code",
      "source": [
        "check_for_disease(sample_text1)"
      ],
      "metadata": {
        "colab": {
          "base_uri": "https://localhost:8080/"
        },
        "id": "HVuvvID-eFud",
        "outputId": "3331104d-39a7-455c-d914-e919356ad59b"
      },
      "execution_count": null,
      "outputs": [
        {
          "output_type": "stream",
          "name": "stdout",
          "text": [
            "Disease name is :  Cancer\n"
          ]
        }
      ]
    },
    {
      "cell_type": "code",
      "source": [
        "check_for_disease(sample_text2)"
      ],
      "metadata": {
        "colab": {
          "base_uri": "https://localhost:8080/"
        },
        "id": "5KIIh5u3eqIV",
        "outputId": "e356b09b-0c46-4c08-c4c0-4e4bc45e0594"
      },
      "execution_count": null,
      "outputs": [
        {
          "output_type": "stream",
          "name": "stdout",
          "text": [
            "Not a disease!\n"
          ]
        }
      ]
    },
    {
      "cell_type": "code",
      "source": [
        "check_for_disease(sample_text3)"
      ],
      "metadata": {
        "colab": {
          "base_uri": "https://localhost:8080/"
        },
        "id": "b_eW9zCsesI5",
        "outputId": "493fe41d-bff2-4a6d-b820-e0c6d1721b9d"
      },
      "execution_count": null,
      "outputs": [
        {
          "output_type": "stream",
          "name": "stdout",
          "text": [
            "Disease name is :  Dengue\n"
          ]
        }
      ]
    },
    {
      "cell_type": "markdown",
      "source": [
        "**To check if content present in the url link is a disease article or not.**"
      ],
      "metadata": {
        "id": "zcWrzHQRDJk9"
      }
    },
    {
      "cell_type": "code",
      "source": [
        "def check_disease_url(url):\n",
        "  sentence = \" \"\n",
        "  page = requests.get(url)\n",
        "\n",
        "  soup = BeautifulSoup(page.content,'html5lib')\n",
        "  # to extract all data from p tags.\n",
        "  for data in soup.find_all('p'):\n",
        "      sentence += data.get_text() \n",
        "  return check_for_disease(sentence)"
      ],
      "metadata": {
        "id": "8j5iVSrnGvDL"
      },
      "execution_count": null,
      "outputs": []
    },
    {
      "cell_type": "code",
      "source": [
        "check_disease_url('https://en.wikipedia.org/wiki/Cancer')"
      ],
      "metadata": {
        "colab": {
          "base_uri": "https://localhost:8080/"
        },
        "id": "CZgXJx44HV-C",
        "outputId": "912c41d3-4739-4ac1-a841-5c17b26401fc"
      },
      "execution_count": null,
      "outputs": [
        {
          "output_type": "stream",
          "name": "stdout",
          "text": [
            "Disease name is :  Cancer\n"
          ]
        }
      ]
    },
    {
      "cell_type": "code",
      "source": [
        "check_disease_url('https://www.rottentomatoes.com/top/bestofrt/')"
      ],
      "metadata": {
        "colab": {
          "base_uri": "https://localhost:8080/"
        },
        "id": "cLtGSEPfIyHL",
        "outputId": "1e5e23f5-ec7b-4daa-aa90-b3245c6686df"
      },
      "execution_count": null,
      "outputs": [
        {
          "output_type": "stream",
          "name": "stdout",
          "text": [
            "Not a disease!\n"
          ]
        }
      ]
    },
    {
      "cell_type": "code",
      "source": [
        "check_disease_url('https://en.wikipedia.org/wiki/Jaundice')"
      ],
      "metadata": {
        "colab": {
          "base_uri": "https://localhost:8080/"
        },
        "id": "JWrG5_g_JIKu",
        "outputId": "1c95683b-1b3a-4fdf-c03b-732188cbb144"
      },
      "execution_count": null,
      "outputs": [
        {
          "output_type": "stream",
          "name": "stdout",
          "text": [
            "Disease name is :  Jaundice\n"
          ]
        }
      ]
    },
    {
      "cell_type": "code",
      "source": [
        ""
      ],
      "metadata": {
        "id": "aCW9ZWbGJLdP"
      },
      "execution_count": null,
      "outputs": []
    }
  ]
}